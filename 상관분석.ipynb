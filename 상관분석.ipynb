{
 "cells": [
  {
   "cell_type": "code",
   "execution_count": 3,
   "id": "f4cc2c4c",
   "metadata": {},
   "outputs": [],
   "source": [
    "\n",
    "import matplotlib.pyplot as plt\n",
    "from matplotlib import rc  ### 이 줄과\n",
    "rc('font', family='AppleGothic') \t\t\t## 이 두 줄을 \n",
    "plt.rcParams['axes.unicode_minus'] = False  ## 추가해줍니다. \n",
    "\n",
    "\n",
    "import pandas as pd\n",
    "import numpy as np\n",
    "import glob\n",
    "import os\n",
    "import matplotlib.pyplot as plt\n",
    "import seaborn as sns\n",
    "from datetime import datetime"
   ]
  },
  {
   "cell_type": "code",
   "execution_count": 110,
   "id": "67862952",
   "metadata": {},
   "outputs": [],
   "source": [
    "df = pd.read_csv(\"유성구 업종별 소비금액 (1).csv\", encoding='CP949')\n",
    "\n",
    "df[\"year\"]=df[\"year\"].astype(str)\n",
    "df[\"month\"]=df[\"month\"].astype(str)\n",
    "\n",
    "for i in range(2,3):\n",
    "    df['month'+str(i)] = df[\"month\"].astype('str').str.zfill(i) # 1~9월까지 0을 채워서 두 자리까지..\n",
    "\n",
    "df[\"date\"] = df[\"year\"] + df[\"month2\"] #컬럼 두 개 합치기 = 2xxx0x 형태로 만들기\n",
    "\n",
    "df['date']=df['date'].apply(lambda _ : datetime.strptime(_,'%Y%m'))\n"
   ]
  },
  {
   "cell_type": "code",
   "execution_count": 113,
   "id": "23f8a419",
   "metadata": {},
   "outputs": [],
   "source": [
    "df1 = pd.read_csv(\"지역화폐 업종별 소비금액 (2).csv\", encoding='CP949')\n",
    "\n",
    "df1[\"year\"]=df1[\"year\"].astype(str)\n",
    "df1[\"month\"]=df1[\"month\"].astype(str)\n",
    "\n",
    "for i in range(2,3):\n",
    "    df1['month'+str(i)] = df1[\"month\"].astype('str').str.zfill(i) # 1~9월까지 0을 채워서 두 자리까지..\n",
    "    \n",
    "df1[\"date\"] = df1[\"year\"] + df1[\"month2\"] #컬럼 두 개 합치기 = 2xxx0x 형태로 만들기\n",
    "\n",
    "# df1['date'] = df1['date'].apply(lambda _ : datetime.strptime(_,'%Y%m'))\n",
    "df1['date'] = pd.to_datetime(df['date'])"
   ]
  },
  {
   "cell_type": "code",
   "execution_count": 114,
   "id": "e66f7d30",
   "metadata": {},
   "outputs": [
    {
     "data": {
      "text/plain": [
       "array(['2022-01-01T00:00:00.000000000', '2022-02-01T00:00:00.000000000',\n",
       "       '2022-03-01T00:00:00.000000000', '2022-04-01T00:00:00.000000000',\n",
       "       '2022-05-01T00:00:00.000000000', '2021-10-01T00:00:00.000000000',\n",
       "       '2021-11-01T00:00:00.000000000', '2021-12-01T00:00:00.000000000'],\n",
       "      dtype='datetime64[ns]')"
      ]
     },
     "execution_count": 114,
     "metadata": {},
     "output_type": "execute_result"
    }
   ],
   "source": [
    " pd.unique(df[\"date\"])"
   ]
  },
  {
   "cell_type": "code",
   "execution_count": 115,
   "id": "f432fca2",
   "metadata": {},
   "outputs": [
    {
     "data": {
      "text/plain": [
       "array(['2022-01-01T00:00:00.000000000', '2022-02-01T00:00:00.000000000',\n",
       "       '2022-03-01T00:00:00.000000000', '2022-04-01T00:00:00.000000000',\n",
       "       '2022-05-01T00:00:00.000000000', '2021-10-01T00:00:00.000000000',\n",
       "       '2021-11-01T00:00:00.000000000', '2021-12-01T00:00:00.000000000'],\n",
       "      dtype='datetime64[ns]')"
      ]
     },
     "execution_count": 115,
     "metadata": {},
     "output_type": "execute_result"
    }
   ],
   "source": [
    "pd.unique(df1[\"date\"])"
   ]
  },
  {
   "cell_type": "code",
   "execution_count": 116,
   "id": "003b5b06",
   "metadata": {
    "scrolled": false
   },
   "outputs": [
    {
     "data": {
      "text/html": [
       "<div>\n",
       "<style scoped>\n",
       "    .dataframe tbody tr th:only-of-type {\n",
       "        vertical-align: middle;\n",
       "    }\n",
       "\n",
       "    .dataframe tbody tr th {\n",
       "        vertical-align: top;\n",
       "    }\n",
       "\n",
       "    .dataframe thead th {\n",
       "        text-align: right;\n",
       "    }\n",
       "</style>\n",
       "<table border=\"1\" class=\"dataframe\">\n",
       "  <thead>\n",
       "    <tr style=\"text-align: right;\">\n",
       "      <th></th>\n",
       "      <th>year</th>\n",
       "      <th>month</th>\n",
       "      <th>dong</th>\n",
       "      <th>num</th>\n",
       "      <th>code</th>\n",
       "      <th>name</th>\n",
       "      <th>cost</th>\n",
       "      <th>Name</th>\n",
       "      <th>month2</th>\n",
       "      <th>date</th>\n",
       "    </tr>\n",
       "  </thead>\n",
       "  <tbody>\n",
       "    <tr>\n",
       "      <th>0</th>\n",
       "      <td>2022</td>\n",
       "      <td>1</td>\n",
       "      <td>가정동</td>\n",
       "      <td>71</td>\n",
       "      <td>G</td>\n",
       "      <td>도매 및 소매업(45-47)</td>\n",
       "      <td>139056700</td>\n",
       "      <td>도매</td>\n",
       "      <td>01</td>\n",
       "      <td>2022-01-01</td>\n",
       "    </tr>\n",
       "    <tr>\n",
       "      <th>1</th>\n",
       "      <td>2022</td>\n",
       "      <td>1</td>\n",
       "      <td>가정동</td>\n",
       "      <td>83</td>\n",
       "      <td>S</td>\n",
       "      <td>협회 및 단체  수리 및 기타 개인 서비스업(94-96)</td>\n",
       "      <td>11294100</td>\n",
       "      <td>협회</td>\n",
       "      <td>01</td>\n",
       "      <td>2022-01-01</td>\n",
       "    </tr>\n",
       "    <tr>\n",
       "      <th>2</th>\n",
       "      <td>2022</td>\n",
       "      <td>1</td>\n",
       "      <td>가정동</td>\n",
       "      <td>67</td>\n",
       "      <td>C</td>\n",
       "      <td>제조업(10-34)</td>\n",
       "      <td>34390500</td>\n",
       "      <td>제조업</td>\n",
       "      <td>01</td>\n",
       "      <td>2022-01-01</td>\n",
       "    </tr>\n",
       "    <tr>\n",
       "      <th>3</th>\n",
       "      <td>2022</td>\n",
       "      <td>1</td>\n",
       "      <td>가정동</td>\n",
       "      <td>73</td>\n",
       "      <td>I</td>\n",
       "      <td>숙박 및 음식점업(55-56)</td>\n",
       "      <td>268942300</td>\n",
       "      <td>숙박</td>\n",
       "      <td>01</td>\n",
       "      <td>2022-01-01</td>\n",
       "    </tr>\n",
       "    <tr>\n",
       "      <th>4</th>\n",
       "      <td>2022</td>\n",
       "      <td>1</td>\n",
       "      <td>가정동</td>\n",
       "      <td>78</td>\n",
       "      <td>N</td>\n",
       "      <td>사업시설 관리  사업 지원 및 임대 서비스업(74-76)</td>\n",
       "      <td>1594500</td>\n",
       "      <td>사업시설</td>\n",
       "      <td>01</td>\n",
       "      <td>2022-01-01</td>\n",
       "    </tr>\n",
       "  </tbody>\n",
       "</table>\n",
       "</div>"
      ],
      "text/plain": [
       "   year month dong  num code                             name       cost  \\\n",
       "0  2022     1  가정동   71    G                  도매 및 소매업(45-47)  139056700   \n",
       "1  2022     1  가정동   83    S  협회 및 단체  수리 및 기타 개인 서비스업(94-96)   11294100   \n",
       "2  2022     1  가정동   67    C                       제조업(10-34)   34390500   \n",
       "3  2022     1  가정동   73    I                 숙박 및 음식점업(55-56)  268942300   \n",
       "4  2022     1  가정동   78    N  사업시설 관리  사업 지원 및 임대 서비스업(74-76)    1594500   \n",
       "\n",
       "   Name month2       date  \n",
       "0    도매     01 2022-01-01  \n",
       "1    협회     01 2022-01-01  \n",
       "2   제조업     01 2022-01-01  \n",
       "3    숙박     01 2022-01-01  \n",
       "4  사업시설     01 2022-01-01  "
      ]
     },
     "execution_count": 116,
     "metadata": {},
     "output_type": "execute_result"
    }
   ],
   "source": [
    "df.head()"
   ]
  },
  {
   "cell_type": "code",
   "execution_count": null,
   "id": "0d545588",
   "metadata": {},
   "outputs": [],
   "source": [
    "list = list = ['G', 'S', 'C', 'I', 'N', 'P', 'Q', 'L', 'R', 'J', 'O', 'H','M']\n"
   ]
  },
  {
   "cell_type": "code",
   "execution_count": 192,
   "id": "353ad099",
   "metadata": {
    "scrolled": true
   },
   "outputs": [
    {
     "name": "stdout",
     "output_type": "stream",
     "text": [
      "    year month dong  num code                        name       cost Name  \\\n",
      "17  2022     1  계산동   82    R  예술  스포츠 및 여가관련 서비스업(90-91)   79427000   예술   \n",
      "31  2022     1  관평동   82    R  예술  스포츠 및 여가관련 서비스업(90-91)  196681600   예술   \n",
      "35  2022     1  교촌동   82    R  예술  스포츠 및 여가관련 서비스업(90-91)     632300   예술   \n",
      "56  2022     1  구암동   82    R  예술  스포츠 및 여가관련 서비스업(90-91)  106542500   예술   \n",
      "62  2022     1   궁동   82    R  예술  스포츠 및 여가관련 서비스업(90-91)  237736600   예술   \n",
      "\n",
      "   month2       date  \n",
      "17     01 2022-01-01  \n",
      "31     01 2022-01-01  \n",
      "35     01 2022-01-01  \n",
      "56     01 2022-01-01  \n",
      "62     01 2022-01-01  \n"
     ]
    }
   ],
   "source": [
    "R = df[(df[\"code\"] == 'R')]\n",
    "J = df[(df[\"code\"] == 'J')]\n",
    "H = df[(df[\"code\"] == 'H')] #예술\n",
    "print(R.head())\n"
   ]
  },
  {
   "cell_type": "code",
   "execution_count": 193,
   "id": "62eb8fcc",
   "metadata": {},
   "outputs": [],
   "source": [
    "R = R.groupby('date').sum()\n",
    "J = J.groupby('date').sum()\n",
    "H = H.groupby('date').sum()"
   ]
  },
  {
   "cell_type": "code",
   "execution_count": null,
   "id": "33d2eb2a",
   "metadata": {},
   "outputs": [],
   "source": []
  },
  {
   "cell_type": "code",
   "execution_count": 119,
   "id": "16c7d579",
   "metadata": {},
   "outputs": [
    {
     "data": {
      "text/html": [
       "<div>\n",
       "<style scoped>\n",
       "    .dataframe tbody tr th:only-of-type {\n",
       "        vertical-align: middle;\n",
       "    }\n",
       "\n",
       "    .dataframe tbody tr th {\n",
       "        vertical-align: top;\n",
       "    }\n",
       "\n",
       "    .dataframe thead th {\n",
       "        text-align: right;\n",
       "    }\n",
       "</style>\n",
       "<table border=\"1\" class=\"dataframe\">\n",
       "  <thead>\n",
       "    <tr style=\"text-align: right;\">\n",
       "      <th></th>\n",
       "      <th>num</th>\n",
       "      <th>cost</th>\n",
       "    </tr>\n",
       "    <tr>\n",
       "      <th>date</th>\n",
       "      <th></th>\n",
       "      <th></th>\n",
       "    </tr>\n",
       "  </thead>\n",
       "  <tbody>\n",
       "    <tr>\n",
       "      <th>2021-10-01</th>\n",
       "      <td>2378</td>\n",
       "      <td>6870068400</td>\n",
       "    </tr>\n",
       "    <tr>\n",
       "      <th>2021-11-01</th>\n",
       "      <td>2460</td>\n",
       "      <td>6316274300</td>\n",
       "    </tr>\n",
       "    <tr>\n",
       "      <th>2021-12-01</th>\n",
       "      <td>2378</td>\n",
       "      <td>5224184900</td>\n",
       "    </tr>\n",
       "    <tr>\n",
       "      <th>2022-01-01</th>\n",
       "      <td>2542</td>\n",
       "      <td>4449256600</td>\n",
       "    </tr>\n",
       "    <tr>\n",
       "      <th>2022-02-01</th>\n",
       "      <td>2378</td>\n",
       "      <td>4310911100</td>\n",
       "    </tr>\n",
       "    <tr>\n",
       "      <th>2022-03-01</th>\n",
       "      <td>2378</td>\n",
       "      <td>6449363000</td>\n",
       "    </tr>\n",
       "    <tr>\n",
       "      <th>2022-04-01</th>\n",
       "      <td>2378</td>\n",
       "      <td>7080105600</td>\n",
       "    </tr>\n",
       "    <tr>\n",
       "      <th>2022-05-01</th>\n",
       "      <td>2460</td>\n",
       "      <td>7779661900</td>\n",
       "    </tr>\n",
       "  </tbody>\n",
       "</table>\n",
       "</div>"
      ],
      "text/plain": [
       "             num        cost\n",
       "date                        \n",
       "2021-10-01  2378  6870068400\n",
       "2021-11-01  2460  6316274300\n",
       "2021-12-01  2378  5224184900\n",
       "2022-01-01  2542  4449256600\n",
       "2022-02-01  2378  4310911100\n",
       "2022-03-01  2378  6449363000\n",
       "2022-04-01  2378  7080105600\n",
       "2022-05-01  2460  7779661900"
      ]
     },
     "execution_count": 119,
     "metadata": {},
     "output_type": "execute_result"
    }
   ],
   "source": [
    "R"
   ]
  },
  {
   "cell_type": "markdown",
   "id": "7d4149d4",
   "metadata": {},
   "source": [
    "## df1 뽑기"
   ]
  },
  {
   "cell_type": "code",
   "execution_count": 120,
   "id": "bea59292",
   "metadata": {
    "scrolled": false
   },
   "outputs": [
    {
     "data": {
      "text/html": [
       "<div>\n",
       "<style scoped>\n",
       "    .dataframe tbody tr th:only-of-type {\n",
       "        vertical-align: middle;\n",
       "    }\n",
       "\n",
       "    .dataframe tbody tr th {\n",
       "        vertical-align: top;\n",
       "    }\n",
       "\n",
       "    .dataframe thead th {\n",
       "        text-align: right;\n",
       "    }\n",
       "</style>\n",
       "<table border=\"1\" class=\"dataframe\">\n",
       "  <thead>\n",
       "    <tr style=\"text-align: right;\">\n",
       "      <th></th>\n",
       "      <th>year</th>\n",
       "      <th>month</th>\n",
       "      <th>dong</th>\n",
       "      <th>num</th>\n",
       "      <th>code</th>\n",
       "      <th>name</th>\n",
       "      <th>count</th>\n",
       "      <th>cost</th>\n",
       "      <th>Name</th>\n",
       "      <th>month2</th>\n",
       "      <th>date</th>\n",
       "    </tr>\n",
       "  </thead>\n",
       "  <tbody>\n",
       "    <tr>\n",
       "      <th>0</th>\n",
       "      <td>2021</td>\n",
       "      <td>10</td>\n",
       "      <td>원내동</td>\n",
       "      <td>67</td>\n",
       "      <td>C</td>\n",
       "      <td>제조업(10-34)</td>\n",
       "      <td>300.00</td>\n",
       "      <td>583.36</td>\n",
       "      <td>제조업</td>\n",
       "      <td>10</td>\n",
       "      <td>2022-01-01</td>\n",
       "    </tr>\n",
       "    <tr>\n",
       "      <th>1</th>\n",
       "      <td>2021</td>\n",
       "      <td>10</td>\n",
       "      <td>원내동</td>\n",
       "      <td>71</td>\n",
       "      <td>G</td>\n",
       "      <td>도매 및 소매업(45-47)</td>\n",
       "      <td>19398.94</td>\n",
       "      <td>22475.86</td>\n",
       "      <td>도매</td>\n",
       "      <td>10</td>\n",
       "      <td>2022-01-01</td>\n",
       "    </tr>\n",
       "    <tr>\n",
       "      <th>2</th>\n",
       "      <td>2021</td>\n",
       "      <td>10</td>\n",
       "      <td>원내동</td>\n",
       "      <td>73</td>\n",
       "      <td>I</td>\n",
       "      <td>숙박 및 음식점업(55-56)</td>\n",
       "      <td>10338.46</td>\n",
       "      <td>10408.65</td>\n",
       "      <td>숙박</td>\n",
       "      <td>10</td>\n",
       "      <td>2022-01-01</td>\n",
       "    </tr>\n",
       "    <tr>\n",
       "      <th>3</th>\n",
       "      <td>2021</td>\n",
       "      <td>10</td>\n",
       "      <td>원내동</td>\n",
       "      <td>77</td>\n",
       "      <td>M</td>\n",
       "      <td>전문  과학 및 기술 서비스업(70-73)</td>\n",
       "      <td>150.00</td>\n",
       "      <td>172.21</td>\n",
       "      <td>전문</td>\n",
       "      <td>10</td>\n",
       "      <td>2022-01-01</td>\n",
       "    </tr>\n",
       "    <tr>\n",
       "      <th>4</th>\n",
       "      <td>2021</td>\n",
       "      <td>10</td>\n",
       "      <td>원내동</td>\n",
       "      <td>78</td>\n",
       "      <td>N</td>\n",
       "      <td>사업시설 관리  사업 지원 및 임대 서비스업(74-76)</td>\n",
       "      <td>50.00</td>\n",
       "      <td>208.44</td>\n",
       "      <td>사업시설</td>\n",
       "      <td>10</td>\n",
       "      <td>2022-01-01</td>\n",
       "    </tr>\n",
       "  </tbody>\n",
       "</table>\n",
       "</div>"
      ],
      "text/plain": [
       "   year month dong  num code                             name     count  \\\n",
       "0  2021    10  원내동   67    C                       제조업(10-34)    300.00   \n",
       "1  2021    10  원내동   71    G                  도매 및 소매업(45-47)  19398.94   \n",
       "2  2021    10  원내동   73    I                 숙박 및 음식점업(55-56)  10338.46   \n",
       "3  2021    10  원내동   77    M          전문  과학 및 기술 서비스업(70-73)    150.00   \n",
       "4  2021    10  원내동   78    N  사업시설 관리  사업 지원 및 임대 서비스업(74-76)     50.00   \n",
       "\n",
       "       cost  Name month2       date  \n",
       "0    583.36   제조업     10 2022-01-01  \n",
       "1  22475.86    도매     10 2022-01-01  \n",
       "2  10408.65    숙박     10 2022-01-01  \n",
       "3    172.21    전문     10 2022-01-01  \n",
       "4    208.44  사업시설     10 2022-01-01  "
      ]
     },
     "execution_count": 120,
     "metadata": {},
     "output_type": "execute_result"
    }
   ],
   "source": [
    "df1.head()"
   ]
  },
  {
   "cell_type": "code",
   "execution_count": 121,
   "id": "78fd705b",
   "metadata": {},
   "outputs": [],
   "source": [
    "r = df1[(df1[\"code\"] == 'R')]\n",
    "j = df1[(df1[\"code\"] == 'J')]\n",
    "h = df1[(df1[\"code\"] == 'H')] #예술"
   ]
  },
  {
   "cell_type": "code",
   "execution_count": 145,
   "id": "a5b67482",
   "metadata": {},
   "outputs": [],
   "source": [
    "r = r.groupby(\"date\").sum()\n",
    "j = r.groupby(\"date\").sum()\n",
    "h = r.groupby(\"date\").sum()"
   ]
  },
  {
   "cell_type": "code",
   "execution_count": 146,
   "id": "36dc751f",
   "metadata": {},
   "outputs": [
    {
     "data": {
      "text/html": [
       "<div>\n",
       "<style scoped>\n",
       "    .dataframe tbody tr th:only-of-type {\n",
       "        vertical-align: middle;\n",
       "    }\n",
       "\n",
       "    .dataframe tbody tr th {\n",
       "        vertical-align: top;\n",
       "    }\n",
       "\n",
       "    .dataframe thead th {\n",
       "        text-align: right;\n",
       "    }\n",
       "</style>\n",
       "<table border=\"1\" class=\"dataframe\">\n",
       "  <thead>\n",
       "    <tr style=\"text-align: right;\">\n",
       "      <th></th>\n",
       "      <th>num</th>\n",
       "      <th>count</th>\n",
       "      <th>cost</th>\n",
       "    </tr>\n",
       "    <tr>\n",
       "      <th>date</th>\n",
       "      <th></th>\n",
       "      <th></th>\n",
       "      <th></th>\n",
       "    </tr>\n",
       "  </thead>\n",
       "  <tbody>\n",
       "    <tr>\n",
       "      <th>2021-10-01</th>\n",
       "      <td>2378</td>\n",
       "      <td>66042.60</td>\n",
       "      <td>19301.16</td>\n",
       "    </tr>\n",
       "    <tr>\n",
       "      <th>2021-11-01</th>\n",
       "      <td>2542</td>\n",
       "      <td>65316.46</td>\n",
       "      <td>18941.69</td>\n",
       "    </tr>\n",
       "    <tr>\n",
       "      <th>2021-12-01</th>\n",
       "      <td>1722</td>\n",
       "      <td>52063.12</td>\n",
       "      <td>14756.60</td>\n",
       "    </tr>\n",
       "    <tr>\n",
       "      <th>2022-01-01</th>\n",
       "      <td>2378</td>\n",
       "      <td>89375.49</td>\n",
       "      <td>29960.66</td>\n",
       "    </tr>\n",
       "    <tr>\n",
       "      <th>2022-02-01</th>\n",
       "      <td>2542</td>\n",
       "      <td>118632.17</td>\n",
       "      <td>46595.11</td>\n",
       "    </tr>\n",
       "    <tr>\n",
       "      <th>2022-03-01</th>\n",
       "      <td>2378</td>\n",
       "      <td>67670.87</td>\n",
       "      <td>31842.08</td>\n",
       "    </tr>\n",
       "    <tr>\n",
       "      <th>2022-04-01</th>\n",
       "      <td>2460</td>\n",
       "      <td>62516.11</td>\n",
       "      <td>18269.31</td>\n",
       "    </tr>\n",
       "    <tr>\n",
       "      <th>2022-05-01</th>\n",
       "      <td>2460</td>\n",
       "      <td>58591.87</td>\n",
       "      <td>13437.10</td>\n",
       "    </tr>\n",
       "  </tbody>\n",
       "</table>\n",
       "</div>"
      ],
      "text/plain": [
       "             num      count      cost\n",
       "date                                 \n",
       "2021-10-01  2378   66042.60  19301.16\n",
       "2021-11-01  2542   65316.46  18941.69\n",
       "2021-12-01  1722   52063.12  14756.60\n",
       "2022-01-01  2378   89375.49  29960.66\n",
       "2022-02-01  2542  118632.17  46595.11\n",
       "2022-03-01  2378   67670.87  31842.08\n",
       "2022-04-01  2460   62516.11  18269.31\n",
       "2022-05-01  2460   58591.87  13437.10"
      ]
     },
     "execution_count": 146,
     "metadata": {},
     "output_type": "execute_result"
    }
   ],
   "source": [
    "r"
   ]
  },
  {
   "cell_type": "code",
   "execution_count": 147,
   "id": "12cba136",
   "metadata": {},
   "outputs": [
    {
     "data": {
      "text/html": [
       "<div>\n",
       "<style scoped>\n",
       "    .dataframe tbody tr th:only-of-type {\n",
       "        vertical-align: middle;\n",
       "    }\n",
       "\n",
       "    .dataframe tbody tr th {\n",
       "        vertical-align: top;\n",
       "    }\n",
       "\n",
       "    .dataframe thead th {\n",
       "        text-align: right;\n",
       "    }\n",
       "</style>\n",
       "<table border=\"1\" class=\"dataframe\">\n",
       "  <thead>\n",
       "    <tr style=\"text-align: right;\">\n",
       "      <th></th>\n",
       "      <th>num</th>\n",
       "      <th>cost</th>\n",
       "    </tr>\n",
       "    <tr>\n",
       "      <th>date</th>\n",
       "      <th></th>\n",
       "      <th></th>\n",
       "    </tr>\n",
       "  </thead>\n",
       "  <tbody>\n",
       "    <tr>\n",
       "      <th>2021-10-01</th>\n",
       "      <td>2378</td>\n",
       "      <td>6870068400</td>\n",
       "    </tr>\n",
       "    <tr>\n",
       "      <th>2021-11-01</th>\n",
       "      <td>2460</td>\n",
       "      <td>6316274300</td>\n",
       "    </tr>\n",
       "    <tr>\n",
       "      <th>2021-12-01</th>\n",
       "      <td>2378</td>\n",
       "      <td>5224184900</td>\n",
       "    </tr>\n",
       "    <tr>\n",
       "      <th>2022-01-01</th>\n",
       "      <td>2542</td>\n",
       "      <td>4449256600</td>\n",
       "    </tr>\n",
       "    <tr>\n",
       "      <th>2022-02-01</th>\n",
       "      <td>2378</td>\n",
       "      <td>4310911100</td>\n",
       "    </tr>\n",
       "    <tr>\n",
       "      <th>2022-03-01</th>\n",
       "      <td>2378</td>\n",
       "      <td>6449363000</td>\n",
       "    </tr>\n",
       "    <tr>\n",
       "      <th>2022-04-01</th>\n",
       "      <td>2378</td>\n",
       "      <td>7080105600</td>\n",
       "    </tr>\n",
       "    <tr>\n",
       "      <th>2022-05-01</th>\n",
       "      <td>2460</td>\n",
       "      <td>7779661900</td>\n",
       "    </tr>\n",
       "  </tbody>\n",
       "</table>\n",
       "</div>"
      ],
      "text/plain": [
       "             num        cost\n",
       "date                        \n",
       "2021-10-01  2378  6870068400\n",
       "2021-11-01  2460  6316274300\n",
       "2021-12-01  2378  5224184900\n",
       "2022-01-01  2542  4449256600\n",
       "2022-02-01  2378  4310911100\n",
       "2022-03-01  2378  6449363000\n",
       "2022-04-01  2378  7080105600\n",
       "2022-05-01  2460  7779661900"
      ]
     },
     "execution_count": 147,
     "metadata": {},
     "output_type": "execute_result"
    }
   ],
   "source": [
    "R"
   ]
  },
  {
   "cell_type": "markdown",
   "id": "e5745d9b",
   "metadata": {},
   "source": [
    "# 정규화 Z-score & Min-Max"
   ]
  },
  {
   "cell_type": "code",
   "execution_count": 206,
   "id": "bade97b3",
   "metadata": {},
   "outputs": [],
   "source": [
    "import scipy.stats as ss\n",
    "\n",
    "data_standadized_R = ss.zscore(R[\"cost\"])\n",
    "data_standadized_r = ss.zscore(r[\"cost\"])\n",
    "\n",
    "data_standadized_J = ss.zscore(J[\"cost\"])\n",
    "data_standadized_j = ss.zscore(j[\"cost\"])\n",
    "\n",
    "data_standadized_H = ss.zscore(H[\"cost\"])\n",
    "data_standadized_h = ss.zscore(h[\"cost\"])\n"
   ]
  },
  {
   "cell_type": "code",
   "execution_count": 207,
   "id": "692cc338",
   "metadata": {},
   "outputs": [
    {
     "data": {
      "text/html": [
       "<div>\n",
       "<style scoped>\n",
       "    .dataframe tbody tr th:only-of-type {\n",
       "        vertical-align: middle;\n",
       "    }\n",
       "\n",
       "    .dataframe tbody tr th {\n",
       "        vertical-align: top;\n",
       "    }\n",
       "\n",
       "    .dataframe thead th {\n",
       "        text-align: right;\n",
       "    }\n",
       "</style>\n",
       "<table border=\"1\" class=\"dataframe\">\n",
       "  <thead>\n",
       "    <tr style=\"text-align: right;\">\n",
       "      <th></th>\n",
       "      <th>R</th>\n",
       "      <th>r</th>\n",
       "    </tr>\n",
       "  </thead>\n",
       "  <tbody>\n",
       "    <tr>\n",
       "      <th>0</th>\n",
       "      <td>0.737775</td>\n",
       "      <td>0.176852</td>\n",
       "    </tr>\n",
       "    <tr>\n",
       "      <th>1</th>\n",
       "      <td>0.578123</td>\n",
       "      <td>0.166011</td>\n",
       "    </tr>\n",
       "    <tr>\n",
       "      <th>2</th>\n",
       "      <td>0.263286</td>\n",
       "      <td>0.039794</td>\n",
       "    </tr>\n",
       "    <tr>\n",
       "      <th>3</th>\n",
       "      <td>0.039883</td>\n",
       "      <td>0.498328</td>\n",
       "    </tr>\n",
       "    <tr>\n",
       "      <th>4</th>\n",
       "      <td>0.000000</td>\n",
       "      <td>1.000000</td>\n",
       "    </tr>\n",
       "    <tr>\n",
       "      <th>5</th>\n",
       "      <td>0.616490</td>\n",
       "      <td>0.555069</td>\n",
       "    </tr>\n",
       "    <tr>\n",
       "      <th>6</th>\n",
       "      <td>0.798326</td>\n",
       "      <td>0.145733</td>\n",
       "    </tr>\n",
       "    <tr>\n",
       "      <th>7</th>\n",
       "      <td>1.000000</td>\n",
       "      <td>0.000000</td>\n",
       "    </tr>\n",
       "  </tbody>\n",
       "</table>\n",
       "</div>"
      ],
      "text/plain": [
       "          R         r\n",
       "0  0.737775  0.176852\n",
       "1  0.578123  0.166011\n",
       "2  0.263286  0.039794\n",
       "3  0.039883  0.498328\n",
       "4  0.000000  1.000000\n",
       "5  0.616490  0.555069\n",
       "6  0.798326  0.145733\n",
       "7  1.000000  0.000000"
      ]
     },
     "execution_count": 207,
     "metadata": {},
     "output_type": "execute_result"
    }
   ],
   "source": [
    "Rr = pd.DataFrame({'R' : R['cost'], 'r' : r['cost'] })\n",
    "\n",
    "from sklearn.preprocessing import MinMaxScaler\n",
    "\n",
    "scaler = MinMaxScaler()\n",
    "df_minmax = scaler.fit_transform(Rr)\n",
    "\n",
    "RRR =pd.DataFrame(df_minmax, columns = ['R', 'r'])\n",
    "\n",
    "RRR"
   ]
  },
  {
   "cell_type": "code",
   "execution_count": 196,
   "id": "7f4c96b3",
   "metadata": {},
   "outputs": [
    {
     "data": {
      "text/html": [
       "<div>\n",
       "<style scoped>\n",
       "    .dataframe tbody tr th:only-of-type {\n",
       "        vertical-align: middle;\n",
       "    }\n",
       "\n",
       "    .dataframe tbody tr th {\n",
       "        vertical-align: top;\n",
       "    }\n",
       "\n",
       "    .dataframe thead th {\n",
       "        text-align: right;\n",
       "    }\n",
       "</style>\n",
       "<table border=\"1\" class=\"dataframe\">\n",
       "  <thead>\n",
       "    <tr style=\"text-align: right;\">\n",
       "      <th></th>\n",
       "      <th>J</th>\n",
       "      <th>j</th>\n",
       "    </tr>\n",
       "  </thead>\n",
       "  <tbody>\n",
       "    <tr>\n",
       "      <th>0</th>\n",
       "      <td>0.737775</td>\n",
       "      <td>0.176852</td>\n",
       "    </tr>\n",
       "    <tr>\n",
       "      <th>1</th>\n",
       "      <td>0.578123</td>\n",
       "      <td>0.166011</td>\n",
       "    </tr>\n",
       "    <tr>\n",
       "      <th>2</th>\n",
       "      <td>0.263286</td>\n",
       "      <td>0.039794</td>\n",
       "    </tr>\n",
       "    <tr>\n",
       "      <th>3</th>\n",
       "      <td>0.039883</td>\n",
       "      <td>0.498328</td>\n",
       "    </tr>\n",
       "    <tr>\n",
       "      <th>4</th>\n",
       "      <td>0.000000</td>\n",
       "      <td>1.000000</td>\n",
       "    </tr>\n",
       "    <tr>\n",
       "      <th>5</th>\n",
       "      <td>0.616490</td>\n",
       "      <td>0.555069</td>\n",
       "    </tr>\n",
       "    <tr>\n",
       "      <th>6</th>\n",
       "      <td>0.798326</td>\n",
       "      <td>0.145733</td>\n",
       "    </tr>\n",
       "    <tr>\n",
       "      <th>7</th>\n",
       "      <td>1.000000</td>\n",
       "      <td>0.000000</td>\n",
       "    </tr>\n",
       "  </tbody>\n",
       "</table>\n",
       "</div>"
      ],
      "text/plain": [
       "          J         j\n",
       "0  0.737775  0.176852\n",
       "1  0.578123  0.166011\n",
       "2  0.263286  0.039794\n",
       "3  0.039883  0.498328\n",
       "4  0.000000  1.000000\n",
       "5  0.616490  0.555069\n",
       "6  0.798326  0.145733\n",
       "7  1.000000  0.000000"
      ]
     },
     "execution_count": 196,
     "metadata": {},
     "output_type": "execute_result"
    }
   ],
   "source": [
    "Jj = pd.DataFrame({'J' : J['cost'], 'j' : j['cost'] })\n",
    "\n",
    "from sklearn.preprocessing import MinMaxScaler\n",
    "\n",
    "scaler = MinMaxScaler()\n",
    "df_minmax = scaler.fit_transform(Rr)\n",
    "\n",
    "JJJ = pd.DataFrame(df_minmax, columns = ['J', 'j'])\n",
    "\n",
    "JJJ"
   ]
  },
  {
   "cell_type": "code",
   "execution_count": 167,
   "id": "8589ddfc",
   "metadata": {
    "scrolled": true
   },
   "outputs": [
    {
     "data": {
      "text/html": [
       "<div>\n",
       "<style scoped>\n",
       "    .dataframe tbody tr th:only-of-type {\n",
       "        vertical-align: middle;\n",
       "    }\n",
       "\n",
       "    .dataframe tbody tr th {\n",
       "        vertical-align: top;\n",
       "    }\n",
       "\n",
       "    .dataframe thead th {\n",
       "        text-align: right;\n",
       "    }\n",
       "</style>\n",
       "<table border=\"1\" class=\"dataframe\">\n",
       "  <thead>\n",
       "    <tr style=\"text-align: right;\">\n",
       "      <th></th>\n",
       "      <th>H</th>\n",
       "      <th>h</th>\n",
       "    </tr>\n",
       "  </thead>\n",
       "  <tbody>\n",
       "    <tr>\n",
       "      <th>0</th>\n",
       "      <td>0.120634</td>\n",
       "      <td>0.176852</td>\n",
       "    </tr>\n",
       "    <tr>\n",
       "      <th>1</th>\n",
       "      <td>1.000000</td>\n",
       "      <td>0.166011</td>\n",
       "    </tr>\n",
       "    <tr>\n",
       "      <th>2</th>\n",
       "      <td>0.969618</td>\n",
       "      <td>0.039794</td>\n",
       "    </tr>\n",
       "    <tr>\n",
       "      <th>3</th>\n",
       "      <td>0.546349</td>\n",
       "      <td>0.498328</td>\n",
       "    </tr>\n",
       "    <tr>\n",
       "      <th>4</th>\n",
       "      <td>0.000000</td>\n",
       "      <td>1.000000</td>\n",
       "    </tr>\n",
       "    <tr>\n",
       "      <th>5</th>\n",
       "      <td>0.338322</td>\n",
       "      <td>0.555069</td>\n",
       "    </tr>\n",
       "    <tr>\n",
       "      <th>6</th>\n",
       "      <td>0.621646</td>\n",
       "      <td>0.145733</td>\n",
       "    </tr>\n",
       "    <tr>\n",
       "      <th>7</th>\n",
       "      <td>0.970028</td>\n",
       "      <td>0.000000</td>\n",
       "    </tr>\n",
       "  </tbody>\n",
       "</table>\n",
       "</div>"
      ],
      "text/plain": [
       "          H         h\n",
       "0  0.120634  0.176852\n",
       "1  1.000000  0.166011\n",
       "2  0.969618  0.039794\n",
       "3  0.546349  0.498328\n",
       "4  0.000000  1.000000\n",
       "5  0.338322  0.555069\n",
       "6  0.621646  0.145733\n",
       "7  0.970028  0.000000"
      ]
     },
     "execution_count": 167,
     "metadata": {},
     "output_type": "execute_result"
    }
   ],
   "source": [
    "Hh = pd.DataFrame({'H' : H['cost'], 'h' : h['cost'] })\n",
    "\n",
    "from sklearn.preprocessing import MinMaxScaler\n",
    "\n",
    "scaler = MinMaxScaler()\n",
    "df_minmax = scaler.fit_transform(Rr)\n",
    "\n",
    "HHH = pd.DataFrame(df_minmax, columns = ['H', 'h'])\n",
    "HHH"
   ]
  },
  {
   "cell_type": "markdown",
   "id": "3632b87b",
   "metadata": {},
   "source": [
    "# 산점도 (상관성 시각화)"
   ]
  },
  {
   "cell_type": "code",
   "execution_count": 150,
   "id": "2aa19a33",
   "metadata": {},
   "outputs": [
    {
     "data": {
      "image/png": "[encoded data removed]",
      "text/plain": [
       "<Figure size 432x288 with 1 Axes>"
      ]
     },
     "metadata": {
      "needs_background": "light"
     },
     "output_type": "display_data"
    }
   ],
   "source": [
    "# # z 스코어\n",
    "# X = data_standadized_r\n",
    "# Y = data_standadized_R\n",
    "\n",
    "# import matplotlib.pyplot as plt\n",
    "# plt.scatter(X, Y, alpha=0.5)\n",
    "# plt.title('TARGET ~ BMI')\n",
    "# plt.xlabel('BMI')\n",
    "# plt.ylabel('TARGET')\n",
    "# plt.show()\n"
   ]
  },
  {
   "cell_type": "code",
   "execution_count": 186,
   "id": "9f650262",
   "metadata": {},
   "outputs": [
    {
     "data": {
      "image/png": "[encoded data removed]",
      "text/plain": [
       "<Figure size 432x288 with 1 Axes>"
      ]
     },
     "metadata": {
      "needs_background": "light"
     },
     "output_type": "display_data"
    }
   ],
   "source": [
    "# mimmax\n",
    "\n",
    "X = RRR[\"R\"]\n",
    "Y = RRR[\"r\"]\n",
    "\n",
    "import matplotlib.pyplot as plt\n",
    "plt.scatter(X, Y)\n",
    "plt.title('TARGET ~ BMI')\n",
    "plt.xlabel('BMI')\n",
    "plt.ylabel('TARGET')\n",
    "plt.show()"
   ]
  },
  {
   "cell_type": "code",
   "execution_count": 174,
   "id": "0514d174",
   "metadata": {},
   "outputs": [
    {
     "data": {
      "text/plain": [
       "(-0.6768549817974259, 0.0652353535768578)"
      ]
     },
     "execution_count": 174,
     "metadata": {},
     "output_type": "execute_result"
    }
   ],
   "source": [
    "import scipy.stats as stats\n",
    "stats.pearsonr(X,Y)\n",
    "\n",
    "# 업종 C"
   ]
  },
  {
   "cell_type": "code",
   "execution_count": 200,
   "id": "fa621893",
   "metadata": {},
   "outputs": [],
   "source": [
    "# z스코어\n",
    "#X = data_standadized_J\n",
    "# Y = data_standadized_j\n",
    "\n",
    "# import matplotlib.pyplot as plt\n",
    "# plt.scatter(X, Y, alpha=0.5)\n",
    "# plt.title('Nor_R')\n",
    "# plt.xlabel('Nor_r')\n",
    "# plt.ylabel('TARGET')\n",
    "# plt.show()"
   ]
  },
  {
   "cell_type": "code",
   "execution_count": 202,
   "id": "ad078d5c",
   "metadata": {},
   "outputs": [
    {
     "data": {
      "image/png": "[encoded data removed]",
      "text/plain": [
       "<Figure size 432x288 with 1 Axes>"
      ]
     },
     "metadata": {
      "needs_background": "light"
     },
     "output_type": "display_data"
    }
   ],
   "source": [
    "#mimmax\n",
    "\n",
    "X = LLL[\"L\"]\n",
    "Y = lll[\"l\"]\n",
    "\n",
    "import matplotlib.pyplot as plt\n",
    "plt.scatter(X, Y, alpha=0.5)\n",
    "plt.title('Cor_Ll')\n",
    "plt.xlabel('L')\n",
    "plt.ylabel('l')\n",
    "plt.show()"
   ]
  },
  {
   "cell_type": "code",
   "execution_count": 185,
   "id": "b13bc85b",
   "metadata": {},
   "outputs": [
    {
     "data": {
      "text/plain": [
       "(-0.7448831750940088, 0.03397318286089964)"
      ]
     },
     "execution_count": 185,
     "metadata": {},
     "output_type": "execute_result"
    }
   ],
   "source": [
    "import scipy.stats as stats\n",
    "stats.pearsonr(X,Y)\n",
    "\n",
    "#업종 L"
   ]
  },
  {
   "cell_type": "code",
   "execution_count": 152,
   "id": "1eacab3f",
   "metadata": {},
   "outputs": [
    {
     "data": {
      "image/png": "[encoded data removed]",
      "text/plain": [
       "<Figure size 432x288 with 1 Axes>"
      ]
     },
     "metadata": {
      "needs_background": "light"
     },
     "output_type": "display_data"
    }
   ],
   "source": [
    "# X = data_standadized_H\n",
    "# Y = data_standadized_h\n",
    "\n",
    "# import matplotlib.pyplot as plt\n",
    "# plt.scatter(X, Y, alpha=0.5)\n",
    "# plt.title('TARGET ~ BMI')\n",
    "# plt.xlabel('BMI')\n",
    "# plt.ylabel('TARGET')\n",
    "# plt.show()"
   ]
  },
  {
   "cell_type": "code",
   "execution_count": 180,
   "id": "d5aa504a",
   "metadata": {},
   "outputs": [
    {
     "data": {
      "image/png": "[encoded data removed]",
      "text/plain": [
       "<Figure size 432x288 with 1 Axes>"
      ]
     },
     "metadata": {
      "needs_background": "light"
     },
     "output_type": "display_data"
    }
   ],
   "source": [
    "#mimmax\n",
    "\n",
    "X = HHH[\"H\"]\n",
    "Y = HHH[\"h\"]\n",
    "\n",
    "import matplotlib.pyplot as plt\n",
    "plt.scatter(X, Y, alpha=0.5)\n",
    "plt.title('TARGET ~ BMI')\n",
    "plt.xlabel('BMI')\n",
    "plt.ylabel('TARGET')\n",
    "plt.show()"
   ]
  },
  {
   "cell_type": "code",
   "execution_count": 181,
   "id": "eb8b91dc",
   "metadata": {},
   "outputs": [
    {
     "data": {
      "text/plain": [
       "(-0.7448831750940088, 0.03397318286089964)"
      ]
     },
     "execution_count": 181,
     "metadata": {},
     "output_type": "execute_result"
    }
   ],
   "source": [
    "import scipy.stats as stats\n",
    "stats.pearsonr(X,Y)"
   ]
  },
  {
   "cell_type": "code",
   "execution_count": null,
   "id": "6c20b08c",
   "metadata": {},
   "outputs": [],
   "source": []
  },
  {
   "cell_type": "code",
   "execution_count": null,
   "id": "4e404ced",
   "metadata": {},
   "outputs": [],
   "source": [
    "X = \n",
    "Y = "
   ]
  },
  {
   "cell_type": "code",
   "execution_count": null,
   "id": "28a3d856",
   "metadata": {},
   "outputs": [],
   "source": [
    "import scipy.stats as stats\n",
    "stats.pearsonr(X,Y)"
   ]
  },
  {
   "cell_type": "code",
   "execution_count": null,
   "id": "3e2ca06b",
   "metadata": {},
   "outputs": [],
   "source": []
  },
  {
   "cell_type": "code",
   "execution_count": null,
   "id": "29c5a8c7",
   "metadata": {},
   "outputs": [],
   "source": [
    "df = pd.DataFrame({\"v1\":[100,200,300,400], \"v2\":[400,200,100,250]})"
   ]
  }
 ],
 "metadata": {
  "kernelspec": {
   "display_name": "ML",
   "language": "python",
   "name": "pytotch"
  },
  "language_info": {
   "codemirror_mode": {
    "name": "ipython",
    "version": 3
   },
   "file_extension": ".py",
   "mimetype": "text/x-python",
   "name": "python",
   "nbconvert_exporter": "python",
   "pygments_lexer": "ipython3",
   "version": "3.7.13"
  }
 },
 "nbformat": 4,
 "nbformat_minor": 5
}
